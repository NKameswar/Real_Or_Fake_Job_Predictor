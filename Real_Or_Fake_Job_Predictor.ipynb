{
 "cells": [
  {
   "cell_type": "code",
   "execution_count": 1,
   "id": "72b22c13",
   "metadata": {},
   "outputs": [],
   "source": [
    "# Importing the libraries \n",
    "\n",
    "import pandas as pd\n",
    "import numpy as np \n",
    "import matplotlib.pyplot as plt \n",
    "import seaborn as sns\n",
    "%matplotlib inline\n",
    "\n",
    "\n",
    "\n",
    "\n",
    "# Ignore harmless warnings \n",
    "\n",
    "import warnings \n",
    "warnings.filterwarnings(\"ignore\")\n",
    "\n",
    "# Set to display all the columns in dataset\n",
    "\n",
    "pd.set_option(\"display.max_columns\", None)\n",
    "\n",
    "# Import psql to run queries \n",
    "\n",
    "import pandasql as psql"
   ]
  },
  {
   "cell_type": "code",
   "execution_count": 2,
   "id": "a612b82f",
   "metadata": {},
   "outputs": [
    {
     "data": {
      "text/html": [
       "<div>\n",
       "<style scoped>\n",
       "    .dataframe tbody tr th:only-of-type {\n",
       "        vertical-align: middle;\n",
       "    }\n",
       "\n",
       "    .dataframe tbody tr th {\n",
       "        vertical-align: top;\n",
       "    }\n",
       "\n",
       "    .dataframe thead th {\n",
       "        text-align: right;\n",
       "    }\n",
       "</style>\n",
       "<table border=\"1\" class=\"dataframe\">\n",
       "  <thead>\n",
       "    <tr style=\"text-align: right;\">\n",
       "      <th></th>\n",
       "      <th>job_id</th>\n",
       "      <th>title</th>\n",
       "      <th>location</th>\n",
       "      <th>department</th>\n",
       "      <th>salary_range</th>\n",
       "      <th>company_profile</th>\n",
       "      <th>description</th>\n",
       "      <th>requirements</th>\n",
       "      <th>benefits</th>\n",
       "      <th>telecommuting</th>\n",
       "      <th>has_company_logo</th>\n",
       "      <th>has_questions</th>\n",
       "      <th>employment_type</th>\n",
       "      <th>required_experience</th>\n",
       "      <th>required_education</th>\n",
       "      <th>industry</th>\n",
       "      <th>function</th>\n",
       "      <th>fraudulent</th>\n",
       "    </tr>\n",
       "  </thead>\n",
       "  <tbody>\n",
       "    <tr>\n",
       "      <th>0</th>\n",
       "      <td>1</td>\n",
       "      <td>Marketing Intern</td>\n",
       "      <td>US, NY, New York</td>\n",
       "      <td>Marketing</td>\n",
       "      <td>NaN</td>\n",
       "      <td>We're Food52, and we've created a groundbreaki...</td>\n",
       "      <td>Food52, a fast-growing, James Beard Award-winn...</td>\n",
       "      <td>Experience with content management systems a m...</td>\n",
       "      <td>NaN</td>\n",
       "      <td>0</td>\n",
       "      <td>1</td>\n",
       "      <td>0</td>\n",
       "      <td>Other</td>\n",
       "      <td>Internship</td>\n",
       "      <td>NaN</td>\n",
       "      <td>NaN</td>\n",
       "      <td>Marketing</td>\n",
       "      <td>0</td>\n",
       "    </tr>\n",
       "    <tr>\n",
       "      <th>1</th>\n",
       "      <td>2</td>\n",
       "      <td>Customer Service - Cloud Video Production</td>\n",
       "      <td>NZ, , Auckland</td>\n",
       "      <td>Success</td>\n",
       "      <td>NaN</td>\n",
       "      <td>90 Seconds, the worlds Cloud Video Production ...</td>\n",
       "      <td>Organised - Focused - Vibrant - Awesome!Do you...</td>\n",
       "      <td>What we expect from you:Your key responsibilit...</td>\n",
       "      <td>What you will get from usThrough being part of...</td>\n",
       "      <td>0</td>\n",
       "      <td>1</td>\n",
       "      <td>0</td>\n",
       "      <td>Full-time</td>\n",
       "      <td>Not Applicable</td>\n",
       "      <td>NaN</td>\n",
       "      <td>Marketing and Advertising</td>\n",
       "      <td>Customer Service</td>\n",
       "      <td>0</td>\n",
       "    </tr>\n",
       "    <tr>\n",
       "      <th>2</th>\n",
       "      <td>3</td>\n",
       "      <td>Commissioning Machinery Assistant (CMA)</td>\n",
       "      <td>US, IA, Wever</td>\n",
       "      <td>NaN</td>\n",
       "      <td>NaN</td>\n",
       "      <td>Valor Services provides Workforce Solutions th...</td>\n",
       "      <td>Our client, located in Houston, is actively se...</td>\n",
       "      <td>Implement pre-commissioning and commissioning ...</td>\n",
       "      <td>NaN</td>\n",
       "      <td>0</td>\n",
       "      <td>1</td>\n",
       "      <td>0</td>\n",
       "      <td>NaN</td>\n",
       "      <td>NaN</td>\n",
       "      <td>NaN</td>\n",
       "      <td>NaN</td>\n",
       "      <td>NaN</td>\n",
       "      <td>0</td>\n",
       "    </tr>\n",
       "    <tr>\n",
       "      <th>3</th>\n",
       "      <td>4</td>\n",
       "      <td>Account Executive - Washington DC</td>\n",
       "      <td>US, DC, Washington</td>\n",
       "      <td>Sales</td>\n",
       "      <td>NaN</td>\n",
       "      <td>Our passion for improving quality of life thro...</td>\n",
       "      <td>THE COMPANY: ESRI – Environmental Systems Rese...</td>\n",
       "      <td>EDUCATION: Bachelor’s or Master’s in GIS, busi...</td>\n",
       "      <td>Our culture is anything but corporate—we have ...</td>\n",
       "      <td>0</td>\n",
       "      <td>1</td>\n",
       "      <td>0</td>\n",
       "      <td>Full-time</td>\n",
       "      <td>Mid-Senior level</td>\n",
       "      <td>Bachelor's Degree</td>\n",
       "      <td>Computer Software</td>\n",
       "      <td>Sales</td>\n",
       "      <td>0</td>\n",
       "    </tr>\n",
       "    <tr>\n",
       "      <th>4</th>\n",
       "      <td>5</td>\n",
       "      <td>Bill Review Manager</td>\n",
       "      <td>US, FL, Fort Worth</td>\n",
       "      <td>NaN</td>\n",
       "      <td>NaN</td>\n",
       "      <td>SpotSource Solutions LLC is a Global Human Cap...</td>\n",
       "      <td>JOB TITLE: Itemization Review ManagerLOCATION:...</td>\n",
       "      <td>QUALIFICATIONS:RN license in the State of Texa...</td>\n",
       "      <td>Full Benefits Offered</td>\n",
       "      <td>0</td>\n",
       "      <td>1</td>\n",
       "      <td>1</td>\n",
       "      <td>Full-time</td>\n",
       "      <td>Mid-Senior level</td>\n",
       "      <td>Bachelor's Degree</td>\n",
       "      <td>Hospital &amp; Health Care</td>\n",
       "      <td>Health Care Provider</td>\n",
       "      <td>0</td>\n",
       "    </tr>\n",
       "  </tbody>\n",
       "</table>\n",
       "</div>"
      ],
      "text/plain": [
       "   job_id                                      title            location  \\\n",
       "0       1                           Marketing Intern    US, NY, New York   \n",
       "1       2  Customer Service - Cloud Video Production      NZ, , Auckland   \n",
       "2       3    Commissioning Machinery Assistant (CMA)       US, IA, Wever   \n",
       "3       4          Account Executive - Washington DC  US, DC, Washington   \n",
       "4       5                        Bill Review Manager  US, FL, Fort Worth   \n",
       "\n",
       "  department salary_range                                    company_profile  \\\n",
       "0  Marketing          NaN  We're Food52, and we've created a groundbreaki...   \n",
       "1    Success          NaN  90 Seconds, the worlds Cloud Video Production ...   \n",
       "2        NaN          NaN  Valor Services provides Workforce Solutions th...   \n",
       "3      Sales          NaN  Our passion for improving quality of life thro...   \n",
       "4        NaN          NaN  SpotSource Solutions LLC is a Global Human Cap...   \n",
       "\n",
       "                                         description  \\\n",
       "0  Food52, a fast-growing, James Beard Award-winn...   \n",
       "1  Organised - Focused - Vibrant - Awesome!Do you...   \n",
       "2  Our client, located in Houston, is actively se...   \n",
       "3  THE COMPANY: ESRI – Environmental Systems Rese...   \n",
       "4  JOB TITLE: Itemization Review ManagerLOCATION:...   \n",
       "\n",
       "                                        requirements  \\\n",
       "0  Experience with content management systems a m...   \n",
       "1  What we expect from you:Your key responsibilit...   \n",
       "2  Implement pre-commissioning and commissioning ...   \n",
       "3  EDUCATION: Bachelor’s or Master’s in GIS, busi...   \n",
       "4  QUALIFICATIONS:RN license in the State of Texa...   \n",
       "\n",
       "                                            benefits  telecommuting  \\\n",
       "0                                                NaN              0   \n",
       "1  What you will get from usThrough being part of...              0   \n",
       "2                                                NaN              0   \n",
       "3  Our culture is anything but corporate—we have ...              0   \n",
       "4                              Full Benefits Offered              0   \n",
       "\n",
       "   has_company_logo  has_questions employment_type required_experience  \\\n",
       "0                 1              0           Other          Internship   \n",
       "1                 1              0       Full-time      Not Applicable   \n",
       "2                 1              0             NaN                 NaN   \n",
       "3                 1              0       Full-time    Mid-Senior level   \n",
       "4                 1              1       Full-time    Mid-Senior level   \n",
       "\n",
       "  required_education                   industry              function  \\\n",
       "0                NaN                        NaN             Marketing   \n",
       "1                NaN  Marketing and Advertising      Customer Service   \n",
       "2                NaN                        NaN                   NaN   \n",
       "3  Bachelor's Degree          Computer Software                 Sales   \n",
       "4  Bachelor's Degree     Hospital & Health Care  Health Care Provider   \n",
       "\n",
       "   fraudulent  \n",
       "0           0  \n",
       "1           0  \n",
       "2           0  \n",
       "3           0  \n",
       "4           0  "
      ]
     },
     "execution_count": 2,
     "metadata": {},
     "output_type": "execute_result"
    }
   ],
   "source": [
    "realorfake=pd.read_csv(r\"C:\\Users\\sai\\Downloads\\RealFake\\fake_job_postings.csv\",header=0)\n",
    "realorfake_bk=realorfake.copy()\n",
    "realorfake.head()"
   ]
  },
  {
   "cell_type": "code",
   "execution_count": 3,
   "id": "15ff8e98",
   "metadata": {},
   "outputs": [
    {
     "name": "stdout",
     "output_type": "stream",
     "text": [
      "<class 'pandas.core.frame.DataFrame'>\n",
      "RangeIndex: 17880 entries, 0 to 17879\n",
      "Data columns (total 18 columns):\n",
      " #   Column               Non-Null Count  Dtype \n",
      "---  ------               --------------  ----- \n",
      " 0   job_id               17880 non-null  int64 \n",
      " 1   title                17880 non-null  object\n",
      " 2   location             17534 non-null  object\n",
      " 3   department           6333 non-null   object\n",
      " 4   salary_range         2868 non-null   object\n",
      " 5   company_profile      14572 non-null  object\n",
      " 6   description          17879 non-null  object\n",
      " 7   requirements         15185 non-null  object\n",
      " 8   benefits             10670 non-null  object\n",
      " 9   telecommuting        17880 non-null  int64 \n",
      " 10  has_company_logo     17880 non-null  int64 \n",
      " 11  has_questions        17880 non-null  int64 \n",
      " 12  employment_type      14409 non-null  object\n",
      " 13  required_experience  10830 non-null  object\n",
      " 14  required_education   9775 non-null   object\n",
      " 15  industry             12977 non-null  object\n",
      " 16  function             11425 non-null  object\n",
      " 17  fraudulent           17880 non-null  int64 \n",
      "dtypes: int64(5), object(13)\n",
      "memory usage: 2.5+ MB\n"
     ]
    }
   ],
   "source": [
    "realorfake.info()"
   ]
  },
  {
   "cell_type": "code",
   "execution_count": 4,
   "id": "0253118c",
   "metadata": {},
   "outputs": [
    {
     "data": {
      "text/plain": [
       "job_id                     0\n",
       "title                      0\n",
       "location                 346\n",
       "department             11547\n",
       "salary_range           15012\n",
       "company_profile         3308\n",
       "description                1\n",
       "requirements            2695\n",
       "benefits                7210\n",
       "telecommuting              0\n",
       "has_company_logo           0\n",
       "has_questions              0\n",
       "employment_type         3471\n",
       "required_experience     7050\n",
       "required_education      8105\n",
       "industry                4903\n",
       "function                6455\n",
       "fraudulent                 0\n",
       "dtype: int64"
      ]
     },
     "execution_count": 4,
     "metadata": {},
     "output_type": "execute_result"
    }
   ],
   "source": [
    "realorfake.isna().sum()"
   ]
  },
  {
   "cell_type": "code",
   "execution_count": 5,
   "id": "462c9493",
   "metadata": {},
   "outputs": [
    {
     "data": {
      "text/plain": [
       "0-0              142\n",
       "40000-50000       66\n",
       "30000-40000       55\n",
       "45000-67000       37\n",
       "25000-30000       37\n",
       "                ... \n",
       "21000-36000        1\n",
       "32500-37500        1\n",
       "110-140            1\n",
       "175000-275000      1\n",
       "100000-240000      1\n",
       "Name: salary_range, Length: 874, dtype: int64"
      ]
     },
     "execution_count": 5,
     "metadata": {},
     "output_type": "execute_result"
    }
   ],
   "source": [
    "realorfake.salary_range.value_counts()"
   ]
  },
  {
   "cell_type": "code",
   "execution_count": 6,
   "id": "015f9a4c",
   "metadata": {},
   "outputs": [
    {
     "data": {
      "text/plain": [
       "Sales                           551\n",
       "Engineering                     487\n",
       "Marketing                       401\n",
       "Operations                      270\n",
       "IT                              225\n",
       "                               ... \n",
       "Collections/Customer Service      1\n",
       "1411                              1\n",
       "MARKETING                         1\n",
       "Server Administration             1\n",
       "Acquisitions and Divesments       1\n",
       "Name: department, Length: 1337, dtype: int64"
      ]
     },
     "execution_count": 6,
     "metadata": {},
     "output_type": "execute_result"
    }
   ],
   "source": [
    "realorfake.department.value_counts()"
   ]
  },
  {
   "cell_type": "code",
   "execution_count": 7,
   "id": "e7884c96",
   "metadata": {},
   "outputs": [],
   "source": [
    "from sklearn.preprocessing import LabelEncoder\n",
    "le=LabelEncoder()\n",
    "realorfake['salary_range']=le.fit_transform(realorfake['salary_range'])\n"
   ]
  },
  {
   "cell_type": "code",
   "execution_count": 8,
   "id": "faf21dd4",
   "metadata": {},
   "outputs": [],
   "source": [
    "realorfake[\"salary_range\"] = realorfake[\"salary_range\"].fillna(realorfake[\"salary_range\"].mode()[0])"
   ]
  },
  {
   "cell_type": "code",
   "execution_count": 9,
   "id": "46f385e8",
   "metadata": {},
   "outputs": [
    {
     "data": {
      "text/plain": [
       "874    15012\n",
       "0        142\n",
       "560       66\n",
       "441       55\n",
       "614       37\n",
       "       ...  \n",
       "281        1\n",
       "265        1\n",
       "233        1\n",
       "52         1\n",
       "640        1\n",
       "Name: salary_range, Length: 875, dtype: int64"
      ]
     },
     "execution_count": 9,
     "metadata": {},
     "output_type": "execute_result"
    }
   ],
   "source": [
    "realorfake.salary_range.value_counts()"
   ]
  },
  {
   "cell_type": "code",
   "execution_count": 10,
   "id": "c6e9e92c",
   "metadata": {},
   "outputs": [
    {
     "data": {
      "text/plain": [
       "job_id                     0\n",
       "title                      0\n",
       "location                 346\n",
       "department             11547\n",
       "salary_range               0\n",
       "company_profile         3308\n",
       "description                1\n",
       "requirements            2695\n",
       "benefits                7210\n",
       "telecommuting              0\n",
       "has_company_logo           0\n",
       "has_questions              0\n",
       "employment_type         3471\n",
       "required_experience     7050\n",
       "required_education      8105\n",
       "industry                4903\n",
       "function                6455\n",
       "fraudulent                 0\n",
       "dtype: int64"
      ]
     },
     "execution_count": 10,
     "metadata": {},
     "output_type": "execute_result"
    }
   ],
   "source": [
    "realorfake.isna().sum()"
   ]
  },
  {
   "cell_type": "code",
   "execution_count": 11,
   "id": "f5614ea3",
   "metadata": {},
   "outputs": [
    {
     "data": {
      "text/plain": [
       "Full-time    11620\n",
       "Contract      1524\n",
       "Part-time      797\n",
       "Temporary      241\n",
       "Other          227\n",
       "Name: employment_type, dtype: int64"
      ]
     },
     "execution_count": 11,
     "metadata": {},
     "output_type": "execute_result"
    }
   ],
   "source": [
    "realorfake.employment_type.value_counts()"
   ]
  },
  {
   "cell_type": "code",
   "execution_count": 12,
   "id": "d0f3f266",
   "metadata": {},
   "outputs": [],
   "source": [
    "from sklearn.preprocessing import LabelEncoder\n",
    "le=LabelEncoder()\n",
    "realorfake['employment_type']=le.fit_transform(realorfake['employment_type'])\n"
   ]
  },
  {
   "cell_type": "code",
   "execution_count": 13,
   "id": "e25a76ea",
   "metadata": {},
   "outputs": [
    {
     "data": {
      "text/plain": [
       "1    11620\n",
       "5     3471\n",
       "0     1524\n",
       "3      797\n",
       "4      241\n",
       "2      227\n",
       "Name: employment_type, dtype: int64"
      ]
     },
     "execution_count": 13,
     "metadata": {},
     "output_type": "execute_result"
    }
   ],
   "source": [
    "realorfake.employment_type.value_counts()"
   ]
  },
  {
   "cell_type": "code",
   "execution_count": 14,
   "id": "cf42e332",
   "metadata": {},
   "outputs": [],
   "source": [
    "realorfake[\"employment_type\"] = realorfake[\"employment_type\"].fillna(realorfake[\"employment_type\"].mode()[0])"
   ]
  },
  {
   "cell_type": "code",
   "execution_count": 15,
   "id": "fa89c9b8",
   "metadata": {},
   "outputs": [
    {
     "data": {
      "text/plain": [
       "job_id                     0\n",
       "title                      0\n",
       "location                 346\n",
       "department             11547\n",
       "salary_range               0\n",
       "company_profile         3308\n",
       "description                1\n",
       "requirements            2695\n",
       "benefits                7210\n",
       "telecommuting              0\n",
       "has_company_logo           0\n",
       "has_questions              0\n",
       "employment_type            0\n",
       "required_experience     7050\n",
       "required_education      8105\n",
       "industry                4903\n",
       "function                6455\n",
       "fraudulent                 0\n",
       "dtype: int64"
      ]
     },
     "execution_count": 15,
     "metadata": {},
     "output_type": "execute_result"
    }
   ],
   "source": [
    "realorfake.isna().sum()"
   ]
  },
  {
   "cell_type": "code",
   "execution_count": 16,
   "id": "5d25bfa2",
   "metadata": {},
   "outputs": [
    {
     "data": {
      "text/plain": [
       "Mid-Senior level    3809\n",
       "Entry level         2697\n",
       "Associate           2297\n",
       "Not Applicable      1116\n",
       "Director             389\n",
       "Internship           381\n",
       "Executive            141\n",
       "Name: required_experience, dtype: int64"
      ]
     },
     "execution_count": 16,
     "metadata": {},
     "output_type": "execute_result"
    }
   ],
   "source": [
    "realorfake.required_experience.value_counts()"
   ]
  },
  {
   "cell_type": "code",
   "execution_count": 17,
   "id": "5d8799e5",
   "metadata": {},
   "outputs": [],
   "source": [
    "#from sklearn.preprocessing import LabelEncoder\n",
    "#le=LabelEncoder()\n",
    "realorfake['required_experience']=le.fit_transform(realorfake['required_experience'])"
   ]
  },
  {
   "cell_type": "code",
   "execution_count": 18,
   "id": "f30112dd",
   "metadata": {},
   "outputs": [],
   "source": [
    "realorfake[\"required_experience\"] = realorfake[\"required_experience\"].fillna(realorfake[\"required_experience\"].mode()[0])"
   ]
  },
  {
   "cell_type": "code",
   "execution_count": 19,
   "id": "d813f9a0",
   "metadata": {},
   "outputs": [
    {
     "data": {
      "text/plain": [
       "job_id                     0\n",
       "title                      0\n",
       "location                 346\n",
       "department             11547\n",
       "salary_range               0\n",
       "company_profile         3308\n",
       "description                1\n",
       "requirements            2695\n",
       "benefits                7210\n",
       "telecommuting              0\n",
       "has_company_logo           0\n",
       "has_questions              0\n",
       "employment_type            0\n",
       "required_experience        0\n",
       "required_education      8105\n",
       "industry                4903\n",
       "function                6455\n",
       "fraudulent                 0\n",
       "dtype: int64"
      ]
     },
     "execution_count": 19,
     "metadata": {},
     "output_type": "execute_result"
    }
   ],
   "source": [
    "realorfake.isna().sum()"
   ]
  },
  {
   "cell_type": "code",
   "execution_count": 20,
   "id": "f6230680",
   "metadata": {},
   "outputs": [
    {
     "data": {
      "text/plain": [
       "Bachelor's Degree                    5145\n",
       "High School or equivalent            2080\n",
       "Unspecified                          1397\n",
       "Master's Degree                       416\n",
       "Associate Degree                      274\n",
       "Certification                         170\n",
       "Some College Coursework Completed     102\n",
       "Professional                           74\n",
       "Vocational                             49\n",
       "Some High School Coursework            27\n",
       "Doctorate                              26\n",
       "Vocational - HS Diploma                 9\n",
       "Vocational - Degree                     6\n",
       "Name: required_education, dtype: int64"
      ]
     },
     "execution_count": 20,
     "metadata": {},
     "output_type": "execute_result"
    }
   ],
   "source": [
    "realorfake.required_education.value_counts()"
   ]
  },
  {
   "cell_type": "code",
   "execution_count": 21,
   "id": "9b935cb9",
   "metadata": {},
   "outputs": [],
   "source": [
    "#from sklearn.preprocessing import LabelEncoder\n",
    "#le=LabelEncoder()\n",
    "realorfake['required_education']=le.fit_transform(realorfake['required_education'])"
   ]
  },
  {
   "cell_type": "code",
   "execution_count": 22,
   "id": "462feb80",
   "metadata": {},
   "outputs": [],
   "source": [
    "realorfake[\"required_experience\"] = realorfake[\"required_experience\"].fillna(realorfake[\"required_experience\"].mode()[0])"
   ]
  },
  {
   "cell_type": "code",
   "execution_count": 23,
   "id": "dcee44ed",
   "metadata": {},
   "outputs": [
    {
     "data": {
      "text/plain": [
       "job_id                     0\n",
       "title                      0\n",
       "location                 346\n",
       "department             11547\n",
       "salary_range               0\n",
       "company_profile         3308\n",
       "description                1\n",
       "requirements            2695\n",
       "benefits                7210\n",
       "telecommuting              0\n",
       "has_company_logo           0\n",
       "has_questions              0\n",
       "employment_type            0\n",
       "required_experience        0\n",
       "required_education         0\n",
       "industry                4903\n",
       "function                6455\n",
       "fraudulent                 0\n",
       "dtype: int64"
      ]
     },
     "execution_count": 23,
     "metadata": {},
     "output_type": "execute_result"
    }
   ],
   "source": [
    "realorfake.isna().sum()"
   ]
  },
  {
   "cell_type": "code",
   "execution_count": 24,
   "id": "61a5aabe",
   "metadata": {},
   "outputs": [],
   "source": [
    "del realorfake['title']\n",
    "del realorfake['location']\n",
    "del realorfake['department']\n",
    "del realorfake['company_profile']\n",
    "del realorfake['description']\n",
    "del realorfake['requirements']\n",
    "del realorfake['benefits']\n",
    "#del realorfake['employment_type']\n",
    "#del realorfake['required_experience']\n",
    "del realorfake['required_education']\n",
    "del realorfake['industry']\n",
    "del realorfake['function']\n"
   ]
  },
  {
   "cell_type": "code",
   "execution_count": 25,
   "id": "a7a0b7c5",
   "metadata": {},
   "outputs": [
    {
     "data": {
      "text/plain": [
       "job_id                 0\n",
       "salary_range           0\n",
       "telecommuting          0\n",
       "has_company_logo       0\n",
       "has_questions          0\n",
       "employment_type        0\n",
       "required_experience    0\n",
       "fraudulent             0\n",
       "dtype: int64"
      ]
     },
     "execution_count": 25,
     "metadata": {},
     "output_type": "execute_result"
    }
   ],
   "source": [
    "realorfake.isnull().sum()"
   ]
  },
  {
   "cell_type": "code",
   "execution_count": 26,
   "id": "da08fc70",
   "metadata": {},
   "outputs": [],
   "source": [
    "# Identify the independent and Target (dependent) variables\n",
    "\n",
    "IndepVar = []\n",
    "for col in realorfake.columns:\n",
    "    if col != 'fraudulent':\n",
    "        IndepVar.append(col)\n",
    "\n",
    "TargetVar = 'fraudulent'\n",
    "\n",
    "x = realorfake[IndepVar]\n",
    "y = realorfake[TargetVar]"
   ]
  },
  {
   "cell_type": "code",
   "execution_count": 27,
   "id": "5b0e38ad",
   "metadata": {},
   "outputs": [
    {
     "data": {
      "text/plain": [
       "((12516, 7), (5364, 7), (12516,), (5364,))"
      ]
     },
     "execution_count": 27,
     "metadata": {},
     "output_type": "execute_result"
    }
   ],
   "source": [
    "# Splitting the dataset into train and test \n",
    "\n",
    "from sklearn.model_selection import train_test_split\n",
    "\n",
    "x_train, x_test, y_train, y_test = train_test_split(x, y, test_size = 0.30, random_state = 42)\n",
    "\n",
    "# Display the shape \n",
    "\n",
    "x_train.shape, x_test.shape, y_train.shape, y_test.shape"
   ]
  },
  {
   "cell_type": "code",
   "execution_count": 28,
   "id": "7cba6fbe",
   "metadata": {},
   "outputs": [
    {
     "data": {
      "text/html": [
       "<div>\n",
       "<style scoped>\n",
       "    .dataframe tbody tr th:only-of-type {\n",
       "        vertical-align: middle;\n",
       "    }\n",
       "\n",
       "    .dataframe tbody tr th {\n",
       "        vertical-align: top;\n",
       "    }\n",
       "\n",
       "    .dataframe thead th {\n",
       "        text-align: right;\n",
       "    }\n",
       "</style>\n",
       "<table border=\"1\" class=\"dataframe\">\n",
       "  <thead>\n",
       "    <tr style=\"text-align: right;\">\n",
       "      <th></th>\n",
       "      <th>Model Name</th>\n",
       "      <th>True Positive</th>\n",
       "      <th>False Negative</th>\n",
       "      <th>False Positive</th>\n",
       "      <th>True Negative</th>\n",
       "      <th>Accuracy</th>\n",
       "      <th>Precision</th>\n",
       "      <th>Recall</th>\n",
       "      <th>F1 Score</th>\n",
       "      <th>Specificity</th>\n",
       "      <th>MCC</th>\n",
       "      <th>ROC_AUC_Score</th>\n",
       "      <th>Balanced Accuracy</th>\n",
       "    </tr>\n",
       "  </thead>\n",
       "  <tbody>\n",
       "  </tbody>\n",
       "</table>\n",
       "</div>"
      ],
      "text/plain": [
       "Empty DataFrame\n",
       "Columns: [Model Name, True Positive, False Negative, False Positive, True Negative, Accuracy, Precision, Recall, F1 Score, Specificity, MCC, ROC_AUC_Score, Balanced Accuracy]\n",
       "Index: []"
      ]
     },
     "execution_count": 28,
     "metadata": {},
     "output_type": "execute_result"
    }
   ],
   "source": [
    "HT_Results=pd.read_csv(r\"C:\\Users\\sai\\Desktop\\HTResults.csv\",header=0)\n",
    "HT_Results.head()"
   ]
  },
  {
   "cell_type": "code",
   "execution_count": 29,
   "id": "c36aabff",
   "metadata": {},
   "outputs": [
    {
     "name": "stdout",
     "output_type": "stream",
     "text": [
      "<class 'pandas.core.frame.DataFrame'>\n",
      "RangeIndex: 17880 entries, 0 to 17879\n",
      "Data columns (total 8 columns):\n",
      " #   Column               Non-Null Count  Dtype\n",
      "---  ------               --------------  -----\n",
      " 0   job_id               17880 non-null  int64\n",
      " 1   salary_range         17880 non-null  int32\n",
      " 2   telecommuting        17880 non-null  int64\n",
      " 3   has_company_logo     17880 non-null  int64\n",
      " 4   has_questions        17880 non-null  int64\n",
      " 5   employment_type      17880 non-null  int32\n",
      " 6   required_experience  17880 non-null  int32\n",
      " 7   fraudulent           17880 non-null  int64\n",
      "dtypes: int32(3), int64(5)\n",
      "memory usage: 908.1 KB\n"
     ]
    }
   ],
   "source": [
    "realorfake.info()"
   ]
  },
  {
   "cell_type": "code",
   "execution_count": null,
   "id": "e6ac5af7",
   "metadata": {},
   "outputs": [],
   "source": []
  },
  {
   "cell_type": "code",
   "execution_count": 30,
   "id": "ab4c7295",
   "metadata": {},
   "outputs": [
    {
     "name": "stdout",
     "output_type": "stream",
     "text": [
      "Model Name:  LogisticRegression()\n",
      "Confusion matrix : \n",
      " [[   3  268]\n",
      " [   6 5087]]\n",
      "Outcome values : \n",
      " 3 268 6 5087\n",
      "Classification report : \n",
      "               precision    recall  f1-score   support\n",
      "\n",
      "           1       0.33      0.01      0.02       271\n",
      "           0       0.95      1.00      0.97      5093\n",
      "\n",
      "    accuracy                           0.95      5364\n",
      "   macro avg       0.64      0.50      0.50      5364\n",
      "weighted avg       0.92      0.95      0.93      5364\n",
      "\n",
      "Accuracy : 94.9 %\n",
      "Precision : 33.3 %\n",
      "Recall : 1.1 %\n",
      "F1 Score : 0.021\n",
      "Specificity or True Negative Rate : 99.9 %\n",
      "Balanced Accuracy : 50.5 %\n",
      "roc_auc_score: 0.505\n"
     ]
    },
    {
     "data": {
      "image/png": "[encoded data removed]",
      "text/plain": [
       "<Figure size 432x288 with 1 Axes>"
      ]
     },
     "metadata": {
      "needs_background": "light"
     },
     "output_type": "display_data"
    },
    {
     "name": "stdout",
     "output_type": "stream",
     "text": [
      "-----------------------------------------------------------------------------------------------------\n",
      "Model Name:  DecisionTreeClassifier()\n",
      "Confusion matrix : \n",
      " [[ 170  101]\n",
      " [ 103 4990]]\n",
      "Outcome values : \n",
      " 170 101 103 4990\n",
      "Classification report : \n",
      "               precision    recall  f1-score   support\n",
      "\n",
      "           1       0.62      0.63      0.62       271\n",
      "           0       0.98      0.98      0.98      5093\n",
      "\n",
      "    accuracy                           0.96      5364\n",
      "   macro avg       0.80      0.80      0.80      5364\n",
      "weighted avg       0.96      0.96      0.96      5364\n",
      "\n",
      "Accuracy : 96.2 %\n",
      "Precision : 62.3 %\n",
      "Recall : 62.7 %\n",
      "F1 Score : 0.625\n",
      "Specificity or True Negative Rate : 98.0 %\n",
      "Balanced Accuracy : 80.4 %\n",
      "roc_auc_score: 0.804\n"
     ]
    },
    {
     "data": {
      "image/png": "[encoded data removed]",
      "text/plain": [
       "<Figure size 432x288 with 1 Axes>"
      ]
     },
     "metadata": {
      "needs_background": "light"
     },
     "output_type": "display_data"
    },
    {
     "name": "stdout",
     "output_type": "stream",
     "text": [
      "-----------------------------------------------------------------------------------------------------\n",
      "Model Name:  RandomForestClassifier()\n",
      "Confusion matrix : \n",
      " [[ 172   99]\n",
      " [  65 5028]]\n",
      "Outcome values : \n",
      " 172 99 65 5028\n",
      "Classification report : \n",
      "               precision    recall  f1-score   support\n",
      "\n",
      "           1       0.73      0.63      0.68       271\n",
      "           0       0.98      0.99      0.98      5093\n",
      "\n",
      "    accuracy                           0.97      5364\n",
      "   macro avg       0.85      0.81      0.83      5364\n",
      "weighted avg       0.97      0.97      0.97      5364\n",
      "\n",
      "Accuracy : 96.9 %\n",
      "Precision : 72.6 %\n",
      "Recall : 63.5 %\n",
      "F1 Score : 0.677\n",
      "Specificity or True Negative Rate : 98.7 %\n",
      "Balanced Accuracy : 81.1 %\n",
      "roc_auc_score: 0.811\n"
     ]
    },
    {
     "data": {
      "image/png": "[encoded data removed]",
      "text/plain": [
       "<Figure size 432x288 with 1 Axes>"
      ]
     },
     "metadata": {
      "needs_background": "light"
     },
     "output_type": "display_data"
    },
    {
     "name": "stdout",
     "output_type": "stream",
     "text": [
      "-----------------------------------------------------------------------------------------------------\n",
      "Model Name:  ExtraTreesClassifier()\n",
      "Confusion matrix : \n",
      " [[ 160  111]\n",
      " [  76 5017]]\n",
      "Outcome values : \n",
      " 160 111 76 5017\n",
      "Classification report : \n",
      "               precision    recall  f1-score   support\n",
      "\n",
      "           1       0.68      0.59      0.63       271\n",
      "           0       0.98      0.99      0.98      5093\n",
      "\n",
      "    accuracy                           0.97      5364\n",
      "   macro avg       0.83      0.79      0.81      5364\n",
      "weighted avg       0.96      0.97      0.96      5364\n",
      "\n",
      "Accuracy : 96.5 %\n",
      "Precision : 67.8 %\n",
      "Recall : 59.0 %\n",
      "F1 Score : 0.631\n",
      "Specificity or True Negative Rate : 98.5 %\n",
      "Balanced Accuracy : 78.8 %\n",
      "roc_auc_score: 0.788\n"
     ]
    },
    {
     "data": {
      "image/png": "[encoded data removed]",
      "text/plain": [
       "<Figure size 432x288 with 1 Axes>"
      ]
     },
     "metadata": {
      "needs_background": "light"
     },
     "output_type": "display_data"
    },
    {
     "name": "stdout",
     "output_type": "stream",
     "text": [
      "-----------------------------------------------------------------------------------------------------\n",
      "Model Name:  KNeighborsClassifier()\n",
      "Confusion matrix : \n",
      " [[ 133  138]\n",
      " [  32 5061]]\n",
      "Outcome values : \n",
      " 133 138 32 5061\n",
      "Classification report : \n",
      "               precision    recall  f1-score   support\n",
      "\n",
      "           1       0.81      0.49      0.61       271\n",
      "           0       0.97      0.99      0.98      5093\n",
      "\n",
      "    accuracy                           0.97      5364\n",
      "   macro avg       0.89      0.74      0.80      5364\n",
      "weighted avg       0.96      0.97      0.96      5364\n",
      "\n",
      "Accuracy : 96.8 %\n",
      "Precision : 80.6 %\n",
      "Recall : 49.1 %\n",
      "F1 Score : 0.61\n",
      "Specificity or True Negative Rate : 99.4 %\n",
      "Balanced Accuracy : 74.2 %\n",
      "roc_auc_score: 0.742\n"
     ]
    },
    {
     "data": {
      "image/png": "[encoded data removed]",
      "text/plain": [
       "<Figure size 432x288 with 1 Axes>"
      ]
     },
     "metadata": {
      "needs_background": "light"
     },
     "output_type": "display_data"
    },
    {
     "name": "stdout",
     "output_type": "stream",
     "text": [
      "-----------------------------------------------------------------------------------------------------\n",
      "Model Name:  BaggingClassifier(n_estimators=100)\n",
      "Confusion matrix : \n",
      " [[ 170  101]\n",
      " [  54 5039]]\n",
      "Outcome values : \n",
      " 170 101 54 5039\n",
      "Classification report : \n",
      "               precision    recall  f1-score   support\n",
      "\n",
      "           1       0.76      0.63      0.69       271\n",
      "           0       0.98      0.99      0.98      5093\n",
      "\n",
      "    accuracy                           0.97      5364\n",
      "   macro avg       0.87      0.81      0.84      5364\n",
      "weighted avg       0.97      0.97      0.97      5364\n",
      "\n",
      "Accuracy : 97.1 %\n",
      "Precision : 75.9 %\n",
      "Recall : 62.7 %\n",
      "F1 Score : 0.687\n",
      "Specificity or True Negative Rate : 98.9 %\n",
      "Balanced Accuracy : 80.8 %\n",
      "roc_auc_score: 0.808\n"
     ]
    },
    {
     "data": {
      "image/png": "[encoded data removed]",
      "text/plain": [
       "<Figure size 432x288 with 1 Axes>"
      ]
     },
     "metadata": {
      "needs_background": "light"
     },
     "output_type": "display_data"
    },
    {
     "name": "stdout",
     "output_type": "stream",
     "text": [
      "-----------------------------------------------------------------------------------------------------\n",
      "Model Name:  GradientBoostingClassifier(loss='deviance')\n",
      "Confusion matrix : \n",
      " [[ 121  150]\n",
      " [   4 5089]]\n",
      "Outcome values : \n",
      " 121 150 4 5089\n",
      "Classification report : \n",
      "               precision    recall  f1-score   support\n",
      "\n",
      "           1       0.97      0.45      0.61       271\n",
      "           0       0.97      1.00      0.99      5093\n",
      "\n",
      "    accuracy                           0.97      5364\n",
      "   macro avg       0.97      0.72      0.80      5364\n",
      "weighted avg       0.97      0.97      0.97      5364\n",
      "\n",
      "Accuracy : 97.1 %\n",
      "Precision : 96.8 %\n",
      "Recall : 44.6 %\n",
      "F1 Score : 0.611\n",
      "Specificity or True Negative Rate : 99.9 %\n",
      "Balanced Accuracy : 72.2 %\n",
      "roc_auc_score: 0.723\n"
     ]
    },
    {
     "data": {
      "image/png": "[encoded data removed]",
      "text/plain": [
       "<Figure size 432x288 with 1 Axes>"
      ]
     },
     "metadata": {
      "needs_background": "light"
     },
     "output_type": "display_data"
    },
    {
     "name": "stdout",
     "output_type": "stream",
     "text": [
      "-----------------------------------------------------------------------------------------------------\n",
      "Model Name:  LGBMClassifier()\n",
      "Confusion matrix : \n",
      " [[ 146  125]\n",
      " [  17 5076]]\n",
      "Outcome values : \n",
      " 146 125 17 5076\n",
      "Classification report : \n",
      "               precision    recall  f1-score   support\n",
      "\n",
      "           1       0.90      0.54      0.67       271\n",
      "           0       0.98      1.00      0.99      5093\n",
      "\n",
      "    accuracy                           0.97      5364\n",
      "   macro avg       0.94      0.77      0.83      5364\n",
      "weighted avg       0.97      0.97      0.97      5364\n",
      "\n",
      "Accuracy : 97.4 %\n",
      "Precision : 89.6 %\n",
      "Recall : 53.9 %\n",
      "F1 Score : 0.673\n",
      "Specificity or True Negative Rate : 99.7 %\n",
      "Balanced Accuracy : 76.8 %\n",
      "roc_auc_score: 0.768\n"
     ]
    },
    {
     "data": {
      "image/png": "[encoded data removed]",
      "text/plain": [
       "<Figure size 432x288 with 1 Axes>"
      ]
     },
     "metadata": {
      "needs_background": "light"
     },
     "output_type": "display_data"
    },
    {
     "name": "stdout",
     "output_type": "stream",
     "text": [
      "-----------------------------------------------------------------------------------------------------\n",
      "Model Name:  GaussianNB()\n",
      "Confusion matrix : \n",
      " [[  29  242]\n",
      " [ 113 4980]]\n",
      "Outcome values : \n",
      " 29 242 113 4980\n",
      "Classification report : \n",
      "               precision    recall  f1-score   support\n",
      "\n",
      "           1       0.20      0.11      0.14       271\n",
      "           0       0.95      0.98      0.97      5093\n",
      "\n",
      "    accuracy                           0.93      5364\n",
      "   macro avg       0.58      0.54      0.55      5364\n",
      "weighted avg       0.92      0.93      0.92      5364\n",
      "\n",
      "Accuracy : 93.4 %\n",
      "Precision : 20.4 %\n",
      "Recall : 10.7 %\n",
      "F1 Score : 0.14\n",
      "Specificity or True Negative Rate : 97.8 %\n",
      "Balanced Accuracy : 54.2 %\n",
      "roc_auc_score: 0.542\n"
     ]
    },
    {
     "data": {
      "image/png": "[encoded data removed]",
      "text/plain": [
       "<Figure size 432x288 with 1 Axes>"
      ]
     },
     "metadata": {
      "needs_background": "light"
     },
     "output_type": "display_data"
    },
    {
     "name": "stdout",
     "output_type": "stream",
     "text": [
      "-----------------------------------------------------------------------------------------------------\n",
      "Model Name:  SVC(kernel='linear', probability=True)\n",
      "Confusion matrix : \n",
      " [[   1  270]\n",
      " [  10 5083]]\n",
      "Outcome values : \n",
      " 1 270 10 5083\n",
      "Classification report : \n",
      "               precision    recall  f1-score   support\n",
      "\n",
      "           1       0.09      0.00      0.01       271\n",
      "           0       0.95      1.00      0.97      5093\n",
      "\n",
      "    accuracy                           0.95      5364\n",
      "   macro avg       0.52      0.50      0.49      5364\n",
      "weighted avg       0.91      0.95      0.92      5364\n",
      "\n",
      "Accuracy : 94.8 %\n",
      "Precision : 9.1 %\n",
      "Recall : 0.4 %\n",
      "F1 Score : 0.007\n",
      "Specificity or True Negative Rate : 99.8 %\n",
      "Balanced Accuracy : 50.1 %\n",
      "roc_auc_score: 0.501\n"
     ]
    },
    {
     "data": {
      "image/png": "[encoded data removed]",
      "text/plain": [
       "<Figure size 432x288 with 1 Axes>"
      ]
     },
     "metadata": {
      "needs_background": "light"
     },
     "output_type": "display_data"
    },
    {
     "name": "stdout",
     "output_type": "stream",
     "text": [
      "-----------------------------------------------------------------------------------------------------\n"
     ]
    }
   ],
   "source": [
    "# Build the Calssification models and compare the results\n",
    "from sklearn.linear_model import LogisticRegression\n",
    "from sklearn.svm import SVC\n",
    "from sklearn.tree import DecisionTreeClassifier\n",
    "from sklearn.ensemble import RandomForestClassifier\n",
    "from sklearn.ensemble import ExtraTreesClassifier\n",
    "from sklearn.neighbors import KNeighborsClassifier\n",
    "from sklearn.naive_bayes import GaussianNB\n",
    "\n",
    "from sklearn.ensemble import BaggingClassifier\n",
    "from sklearn.ensemble import GradientBoostingClassifier\n",
    "import lightgbm as lgb\n",
    "\n",
    "# Create objects of classification algorithm with default hyper-parameters\n",
    "ModelSVM = SVC(C=1.0, kernel='linear', degree=3, gamma='scale', coef0=0.0, shrinking=True,probability=True, tol=0.001, cache_size=200, class_weight=None, verbose=False,max_iter=- 1, decision_function_shape='ovr', break_ties=False, random_state=None)\n",
    "ModelLR = LogisticRegression()\n",
    "ModelDC = DecisionTreeClassifier()\n",
    "ModelRF = RandomForestClassifier()\n",
    "ModelET = ExtraTreesClassifier()\n",
    "ModelKNN = KNeighborsClassifier(n_neighbors=5)\n",
    "\n",
    "modelBAG = BaggingClassifier(base_estimator=None, n_estimators=100, max_samples=1.0, max_features=1.0,bootstrap=True, bootstrap_features=False, oob_score=False, warm_start=False,n_jobs=None, random_state=None, verbose=0)\n",
    "ModelGB = GradientBoostingClassifier(loss='deviance', learning_rate=0.1,n_estimators=100, subsample=1.0,criterion='friedman_mse', min_samples_split=2, min_samples_leaf=1,min_weight_fraction_leaf=0.0, max_depth=3, min_impurity_decrease=0.0, init=None,random_state=None,max_features=None, verbose=0, max_leaf_nodes=None, warm_start=False,validation_fraction=0.1, n_iter_no_change=None, tol=0.0001, ccp_alpha=0.0)\n",
    "ModelLGB = lgb.LGBMClassifier()\n",
    "ModelGNB = GaussianNB()\n",
    "# Evalution matrix for all the algorithms\n",
    "\n",
    " \n",
    "MM = [ModelLR, ModelDC, ModelRF, ModelET,ModelKNN, modelBAG,ModelGB, ModelLGB, ModelGNB,ModelSVM]\n",
    "for models in MM:\n",
    "            \n",
    "     #Train the model training dataset\n",
    "    \n",
    "    models.fit(x_train, y_train)\n",
    "    \n",
    "    # Prediction the model with test dataset\n",
    "    \n",
    "    y_pred = models.predict(x_test)\n",
    "    y_pred_prob = models.predict_proba(x_test)\n",
    "    \n",
    "    # Print the model name\n",
    "    \n",
    "    print('Model Name: ', models)\n",
    "    \n",
    "    # confusion matrix in sklearn\n",
    "\n",
    "    from sklearn.metrics import confusion_matrix\n",
    "    from sklearn.metrics import classification_report\n",
    "\n",
    "    # actual values\n",
    "\n",
    "    actual = y_test\n",
    "\n",
    "    # predicted values\n",
    "\n",
    "    predicted = y_pred\n",
    "\n",
    "    # confusion matrix\n",
    "\n",
    "    matrix = confusion_matrix(actual,predicted, labels=[1,0],sample_weight=None, normalize=None)\n",
    "    print('Confusion matrix : \\n', matrix)\n",
    "\n",
    "    # outcome values order in sklearn\n",
    "\n",
    "    tp, fn, fp, tn = confusion_matrix(actual,predicted,labels=[1,0]).reshape(-1)\n",
    "    print('Outcome values : \\n', tp, fn, fp, tn)\n",
    "\n",
    "    # classification report for precision, recall f1-score and accuracy\n",
    "\n",
    "    C_Report = classification_report(actual,predicted,labels=[1,0])\n",
    "\n",
    "    print('Classification report : \\n', C_Report)\n",
    "\n",
    "    # calculating the metrics\n",
    "\n",
    "    sensitivity = round(tp/(tp+fn), 3);\n",
    "    specificity = round(tn/(tn+fp), 3);\n",
    "    accuracy = round((tp+tn)/(tp+fp+tn+fn), 3);\n",
    "    balanced_accuracy = round((sensitivity+specificity)/2, 3);\n",
    "    \n",
    "    precision = round(tp/(tp+fp), 3);\n",
    "    f1Score = round((2*tp/(2*tp + fp + fn)), 3);\n",
    "\n",
    "    # Matthews Correlation Coefficient (MCC). Range of values of MCC lie between -1 to +1. \n",
    "    # A model with a score of +1 is a perfect model and -1 is a poor model\n",
    "\n",
    "    from math import sqrt\n",
    "\n",
    "    mx = (tp+fp) * (tp+fn) * (tn+fp) * (tn+fn)\n",
    "    MCC = round(((tp * tn) - (fp * fn)) / sqrt(mx), 3)\n",
    "\n",
    "    print('Accuracy :', round(accuracy*100, 2),'%')\n",
    "    print('Precision :', round(precision*100, 2),'%')\n",
    "    print('Recall :', round(sensitivity*100,2), '%')\n",
    "    print('F1 Score :', f1Score)\n",
    "    print('Specificity or True Negative Rate :', round(specificity*100,2), '%'  )\n",
    "    print('Balanced Accuracy :', round(balanced_accuracy*100, 2),'%')\n",
    "    #print('MCC :', MCC)\n",
    "\n",
    "    # Area under ROC curve \n",
    "\n",
    "    from sklearn.metrics import roc_curve, roc_auc_score\n",
    "\n",
    "    print('roc_auc_score:', round(roc_auc_score(actual, y_pred), 3))\n",
    "    \n",
    "    # ROC Curve\n",
    "    \n",
    "    from sklearn.metrics import roc_auc_score\n",
    "    from sklearn.metrics import roc_curve\n",
    "    Model_roc_auc = roc_auc_score(actual, y_pred)\n",
    "    fpr, tpr, thresholds = roc_curve(actual, models.predict_proba(x_test)[:,1])\n",
    "    plt.figure()\n",
    "    #\n",
    "    plt.plot(fpr, tpr, label= 'Classification Model' % Model_roc_auc)\n",
    "    plt.plot([0, 1], [0, 1],'r--')\n",
    "    plt.xlim([0.0, 1.0])\n",
    "    plt.ylim([0.0, 1.05])\n",
    "    plt.xlabel('False Positive Rate')\n",
    "    plt.ylabel('True Positive Rate')\n",
    "    plt.title('Receiver operating characteristic')\n",
    "    plt.legend(loc=\"lower right\")\n",
    "    plt.savefig('Log_ROC')\n",
    "    plt.show()\n",
    "    print('-----------------------------------------------------------------------------------------------------')\n",
    "    #----------------------------------------------------------------------------------------------------------\n",
    "    new_row = {'Model Name' : models,\n",
    "               'True Positive': tp,\n",
    "               'False Negative': fn, \n",
    "               'False Positive': fp, \n",
    "               'True Negative': tn,\n",
    "               'Accuracy' : accuracy,\n",
    "               'Precision' : precision,\n",
    "               'Recall' : sensitivity,\n",
    "               'F1 Score' : f1Score,\n",
    "               'Specificity' : specificity,\n",
    "               'MCC': MCC,\n",
    "               'ROC_AUC_Score':roc_auc_score(actual, y_pred),\n",
    "               'Balanced Accuracy':balanced_accuracy}\n",
    "    HT_Results = HT_Results.append(new_row, ignore_index=True)"
   ]
  },
  {
   "cell_type": "code",
   "execution_count": 31,
   "id": "476912e8",
   "metadata": {
    "scrolled": true
   },
   "outputs": [
    {
     "data": {
      "text/html": [
       "<div>\n",
       "<style scoped>\n",
       "    .dataframe tbody tr th:only-of-type {\n",
       "        vertical-align: middle;\n",
       "    }\n",
       "\n",
       "    .dataframe tbody tr th {\n",
       "        vertical-align: top;\n",
       "    }\n",
       "\n",
       "    .dataframe thead th {\n",
       "        text-align: right;\n",
       "    }\n",
       "</style>\n",
       "<table border=\"1\" class=\"dataframe\">\n",
       "  <thead>\n",
       "    <tr style=\"text-align: right;\">\n",
       "      <th></th>\n",
       "      <th>Model Name</th>\n",
       "      <th>True Positive</th>\n",
       "      <th>False Negative</th>\n",
       "      <th>False Positive</th>\n",
       "      <th>True Negative</th>\n",
       "      <th>Accuracy</th>\n",
       "      <th>Precision</th>\n",
       "      <th>Recall</th>\n",
       "      <th>F1 Score</th>\n",
       "      <th>Specificity</th>\n",
       "      <th>MCC</th>\n",
       "      <th>ROC_AUC_Score</th>\n",
       "      <th>Balanced Accuracy</th>\n",
       "    </tr>\n",
       "  </thead>\n",
       "  <tbody>\n",
       "    <tr>\n",
       "      <th>0</th>\n",
       "      <td>LogisticRegression()</td>\n",
       "      <td>3</td>\n",
       "      <td>268</td>\n",
       "      <td>6</td>\n",
       "      <td>5087</td>\n",
       "      <td>0.949</td>\n",
       "      <td>0.333</td>\n",
       "      <td>0.011</td>\n",
       "      <td>0.021</td>\n",
       "      <td>0.999</td>\n",
       "      <td>0.053</td>\n",
       "      <td>0.504946</td>\n",
       "      <td>0.505</td>\n",
       "    </tr>\n",
       "    <tr>\n",
       "      <th>1</th>\n",
       "      <td>DecisionTreeClassifier()</td>\n",
       "      <td>170</td>\n",
       "      <td>101</td>\n",
       "      <td>103</td>\n",
       "      <td>4990</td>\n",
       "      <td>0.962</td>\n",
       "      <td>0.623</td>\n",
       "      <td>0.627</td>\n",
       "      <td>0.625</td>\n",
       "      <td>0.980</td>\n",
       "      <td>0.605</td>\n",
       "      <td>0.803541</td>\n",
       "      <td>0.804</td>\n",
       "    </tr>\n",
       "    <tr>\n",
       "      <th>2</th>\n",
       "      <td>(DecisionTreeClassifier(max_features='sqrt', r...</td>\n",
       "      <td>172</td>\n",
       "      <td>99</td>\n",
       "      <td>65</td>\n",
       "      <td>5028</td>\n",
       "      <td>0.969</td>\n",
       "      <td>0.726</td>\n",
       "      <td>0.635</td>\n",
       "      <td>0.677</td>\n",
       "      <td>0.987</td>\n",
       "      <td>0.663</td>\n",
       "      <td>0.810962</td>\n",
       "      <td>0.811</td>\n",
       "    </tr>\n",
       "    <tr>\n",
       "      <th>3</th>\n",
       "      <td>(ExtraTreeClassifier(random_state=1092226456),...</td>\n",
       "      <td>160</td>\n",
       "      <td>111</td>\n",
       "      <td>76</td>\n",
       "      <td>5017</td>\n",
       "      <td>0.965</td>\n",
       "      <td>0.678</td>\n",
       "      <td>0.590</td>\n",
       "      <td>0.631</td>\n",
       "      <td>0.985</td>\n",
       "      <td>0.615</td>\n",
       "      <td>0.787742</td>\n",
       "      <td>0.788</td>\n",
       "    </tr>\n",
       "    <tr>\n",
       "      <th>4</th>\n",
       "      <td>KNeighborsClassifier()</td>\n",
       "      <td>133</td>\n",
       "      <td>138</td>\n",
       "      <td>32</td>\n",
       "      <td>5061</td>\n",
       "      <td>0.968</td>\n",
       "      <td>0.806</td>\n",
       "      <td>0.491</td>\n",
       "      <td>0.610</td>\n",
       "      <td>0.994</td>\n",
       "      <td>0.615</td>\n",
       "      <td>0.742246</td>\n",
       "      <td>0.742</td>\n",
       "    </tr>\n",
       "    <tr>\n",
       "      <th>5</th>\n",
       "      <td>(DecisionTreeClassifier(random_state=184697077...</td>\n",
       "      <td>170</td>\n",
       "      <td>101</td>\n",
       "      <td>54</td>\n",
       "      <td>5039</td>\n",
       "      <td>0.971</td>\n",
       "      <td>0.759</td>\n",
       "      <td>0.627</td>\n",
       "      <td>0.687</td>\n",
       "      <td>0.989</td>\n",
       "      <td>0.675</td>\n",
       "      <td>0.808352</td>\n",
       "      <td>0.808</td>\n",
       "    </tr>\n",
       "    <tr>\n",
       "      <th>6</th>\n",
       "      <td>([DecisionTreeRegressor(criterion='friedman_ms...</td>\n",
       "      <td>121</td>\n",
       "      <td>150</td>\n",
       "      <td>4</td>\n",
       "      <td>5089</td>\n",
       "      <td>0.971</td>\n",
       "      <td>0.968</td>\n",
       "      <td>0.446</td>\n",
       "      <td>0.611</td>\n",
       "      <td>0.999</td>\n",
       "      <td>0.647</td>\n",
       "      <td>0.722855</td>\n",
       "      <td>0.722</td>\n",
       "    </tr>\n",
       "    <tr>\n",
       "      <th>7</th>\n",
       "      <td>LGBMClassifier()</td>\n",
       "      <td>146</td>\n",
       "      <td>125</td>\n",
       "      <td>17</td>\n",
       "      <td>5076</td>\n",
       "      <td>0.974</td>\n",
       "      <td>0.896</td>\n",
       "      <td>0.539</td>\n",
       "      <td>0.673</td>\n",
       "      <td>0.997</td>\n",
       "      <td>0.683</td>\n",
       "      <td>0.767704</td>\n",
       "      <td>0.768</td>\n",
       "    </tr>\n",
       "    <tr>\n",
       "      <th>8</th>\n",
       "      <td>GaussianNB()</td>\n",
       "      <td>29</td>\n",
       "      <td>242</td>\n",
       "      <td>113</td>\n",
       "      <td>4980</td>\n",
       "      <td>0.934</td>\n",
       "      <td>0.204</td>\n",
       "      <td>0.107</td>\n",
       "      <td>0.140</td>\n",
       "      <td>0.978</td>\n",
       "      <td>0.116</td>\n",
       "      <td>0.542412</td>\n",
       "      <td>0.542</td>\n",
       "    </tr>\n",
       "    <tr>\n",
       "      <th>9</th>\n",
       "      <td>SVC(kernel='linear', probability=True)</td>\n",
       "      <td>1</td>\n",
       "      <td>270</td>\n",
       "      <td>10</td>\n",
       "      <td>5083</td>\n",
       "      <td>0.948</td>\n",
       "      <td>0.091</td>\n",
       "      <td>0.004</td>\n",
       "      <td>0.007</td>\n",
       "      <td>0.998</td>\n",
       "      <td>0.008</td>\n",
       "      <td>0.500863</td>\n",
       "      <td>0.501</td>\n",
       "    </tr>\n",
       "  </tbody>\n",
       "</table>\n",
       "</div>"
      ],
      "text/plain": [
       "                                          Model Name True Positive  \\\n",
       "0                               LogisticRegression()             3   \n",
       "1                           DecisionTreeClassifier()           170   \n",
       "2  (DecisionTreeClassifier(max_features='sqrt', r...           172   \n",
       "3  (ExtraTreeClassifier(random_state=1092226456),...           160   \n",
       "4                             KNeighborsClassifier()           133   \n",
       "5  (DecisionTreeClassifier(random_state=184697077...           170   \n",
       "6  ([DecisionTreeRegressor(criterion='friedman_ms...           121   \n",
       "7                                   LGBMClassifier()           146   \n",
       "8                                       GaussianNB()            29   \n",
       "9             SVC(kernel='linear', probability=True)             1   \n",
       "\n",
       "  False Negative False Positive True Negative  Accuracy  Precision  Recall  \\\n",
       "0            268              6          5087     0.949      0.333   0.011   \n",
       "1            101            103          4990     0.962      0.623   0.627   \n",
       "2             99             65          5028     0.969      0.726   0.635   \n",
       "3            111             76          5017     0.965      0.678   0.590   \n",
       "4            138             32          5061     0.968      0.806   0.491   \n",
       "5            101             54          5039     0.971      0.759   0.627   \n",
       "6            150              4          5089     0.971      0.968   0.446   \n",
       "7            125             17          5076     0.974      0.896   0.539   \n",
       "8            242            113          4980     0.934      0.204   0.107   \n",
       "9            270             10          5083     0.948      0.091   0.004   \n",
       "\n",
       "   F1 Score  Specificity    MCC  ROC_AUC_Score  Balanced Accuracy  \n",
       "0     0.021        0.999  0.053       0.504946              0.505  \n",
       "1     0.625        0.980  0.605       0.803541              0.804  \n",
       "2     0.677        0.987  0.663       0.810962              0.811  \n",
       "3     0.631        0.985  0.615       0.787742              0.788  \n",
       "4     0.610        0.994  0.615       0.742246              0.742  \n",
       "5     0.687        0.989  0.675       0.808352              0.808  \n",
       "6     0.611        0.999  0.647       0.722855              0.722  \n",
       "7     0.673        0.997  0.683       0.767704              0.768  \n",
       "8     0.140        0.978  0.116       0.542412              0.542  \n",
       "9     0.007        0.998  0.008       0.500863              0.501  "
      ]
     },
     "execution_count": 31,
     "metadata": {},
     "output_type": "execute_result"
    }
   ],
   "source": [
    "HT_Results"
   ]
  },
  {
   "cell_type": "code",
   "execution_count": null,
   "id": "8e279a03",
   "metadata": {},
   "outputs": [],
   "source": []
  }
 ],
 "metadata": {
  "kernelspec": {
   "display_name": "Python 3",
   "language": "python",
   "name": "python3"
  },
  "language_info": {
   "codemirror_mode": {
    "name": "ipython",
    "version": 3
   },
   "file_extension": ".py",
   "mimetype": "text/x-python",
   "name": "python",
   "nbconvert_exporter": "python",
   "pygments_lexer": "ipython3",
   "version": "3.8.8"
  }
 },
 "nbformat": 4,
 "nbformat_minor": 5
}
